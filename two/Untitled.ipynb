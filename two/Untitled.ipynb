{
 "cells": [
  {
   "cell_type": "markdown",
   "metadata": {},
   "source": [
    "# Question 1\n",
    "\n",
    "We wish to train a machine learning algorithm on an array of floating point numbers in the interval [0.0, 1.0). The data is horribly unbalanced (not evenly distributed) and we wish to filter the dataset to obtain a subset containing an equal number of values from each interval [0, 0.2), [0.2, 0.4), ... [0.8, 1.0), throwing away as little data as possible.\n",
    "\n",
    "1. Write a program which reads comma-separated floating point numbers in a single line from stdin, and prints the filtered data to stdout in the same format"
   ]
  },
  {
   "cell_type": "markdown",
   "metadata": {},
   "source": [
    "**Overview**\n",
    "\n",
    "How should we balance the data? If our goal is only to obtain a dataset with the same number of values in each bucket, then we can do several things\n",
    "\n",
    "1. As the data comes in, we bucket the data, keeping track of how many elements are in each bucket. Then, at output time, we output that many elements from each bucket.\n",
    " - this does *throw away as little data as possible*\n",
    "\n",
    "What does it do when there are no values in one interval [0.8, 1.0)?\n",
    "* Return nothing for all the intervals?\n",
    "\n",
    "Tests:\n",
    "\n",
    "* Doesn't throw away data: if the number of elements in each bucket is the same to begin with\n",
    "\n"
   ]
  },
  {
   "cell_type": "code",
   "execution_count": 1,
   "metadata": {},
   "outputs": [],
   "source": [
    "def cut(numbers, disp=False):\n",
    "    \"\"\"Filter the input to create a balanced data\n",
    "    \n",
    "    Params:\n",
    "    numbers - array of floats in [0.0, 1.0)\n",
    "    \"\"\"\n",
    "    intervals = [0.2, 0.4, 0.6, 0.8, 1.0]\n",
    "    buckets = [[] for i in intervals]\n",
    "    for num in numbers:\n",
    "        # find the right bucket\n",
    "        for i, right in enumerate(intervals):\n",
    "            if num < right:\n",
    "                buckets[i].append(num)\n",
    "                break\n",
    "    \n",
    "    if disp:\n",
    "        print('Buckets:\\n', buckets)\n",
    "        \n",
    "    # find out how many values to keep\n",
    "    k = min([len(b) for b in buckets])\n",
    "    \n",
    "    # take k values from each bucket\n",
    "    buckets = [b[:k] for b in buckets]\n",
    "    data = []\n",
    "    for b in buckets:\n",
    "        data += b\n",
    "        \n",
    "    return data\n"
   ]
  },
  {
   "cell_type": "markdown",
   "metadata": {},
   "source": [
    "Let's test that `cut` works"
   ]
  },
  {
   "cell_type": "code",
   "execution_count": 2,
   "metadata": {},
   "outputs": [
    {
     "name": "stdout",
     "output_type": "stream",
     "text": [
      "Buckets:\n",
      " [[0, 0.1], [0.3], [0.4, 0.5], [0.7], [0.9]]\n",
      "Buckets:\n",
      " [[0, 0.1], [0.2, 0.3], [0.4, 0.4], [0.6, 0.6], [0.8, 0.8]]\n"
     ]
    }
   ],
   "source": [
    "# TEST: drops unbalanced elements\n",
    "inputs = [0,0.1,0.3,0.4,0.5,0.7,0.9, 1.0]\n",
    "expected = [0, 0.3, 0.4, 0.7, 0.9]\n",
    "assert cut(inputs, True) == expected\n",
    "\n",
    "# TEST: throws away as little as possible\n",
    "inputs = [0, 0.1, 0.2, 0.3, 0.4, 0.4, 0.6, 0.6, 0.8, 0.8, 1.0, 1.0]\n",
    "expected = [0, 0.1, 0.2, 0.3, 0.4, 0.4, 0.6, 0.6, 0.8, 0.8]\n",
    "assert cut(inputs, True) == expected"
   ]
  },
  {
   "cell_type": "code",
   "execution_count": 3,
   "metadata": {},
   "outputs": [
    {
     "name": "stdout",
     "output_type": "stream",
     "text": [
      "0.0,0.1,0.2,0.3,0.4,0.4,0.6,0.6,0.8,0.8\n"
     ]
    }
   ],
   "source": [
    "!echo 0, 0.1, 0.2, 0.3, 0.4, 0.4, 0.6, 0.6, 0.8, 0.8, 1.0, 1.0 | python filter.py\n"
   ]
  },
  {
   "cell_type": "markdown",
   "metadata": {},
   "source": [
    "Of course, we'll need some end-to-end tests to make sure that the program output is what we expect"
   ]
  },
  {
   "cell_type": "code",
   "execution_count": 4,
   "metadata": {},
   "outputs": [],
   "source": [
    "# TODO"
   ]
  },
  {
   "cell_type": "markdown",
   "metadata": {},
   "source": [
    "# Question 4"
   ]
  },
  {
   "cell_type": "markdown",
   "metadata": {},
   "source": [
    "Write a program which counts how many possible games of TicTacToe consist of a certain number of moves.\n",
    "\n",
    "Output format example (these numbers are incorrect):\n",
    "```\n",
    "5 78492\n",
    "6 289\n",
    "7 48901\n",
    "8 8172\n",
    "9 231\n",
    "```\n",
    "\n",
    "How do we do this efficiently? "
   ]
  },
  {
   "cell_type": "code",
   "execution_count": 5,
   "metadata": {},
   "outputs": [
    {
     "data": {
      "text/plain": [
       "{0: [[0, 1, 2], [0, 3, 6], [0, 4, 8]],\n",
       " 1: [[0, 1, 2], [1, 4, 7]],\n",
       " 2: [[0, 1, 2], [2, 5, 8], [2, 4, 6]],\n",
       " 3: [[3, 4, 5], [0, 3, 6]],\n",
       " 4: [[3, 4, 5], [1, 4, 7], [0, 4, 8], [2, 4, 6]],\n",
       " 5: [[3, 4, 5], [2, 5, 8]],\n",
       " 6: [[6, 7, 8], [0, 3, 6], [2, 4, 6]],\n",
       " 7: [[6, 7, 8], [1, 4, 7]],\n",
       " 8: [[6, 7, 8], [2, 5, 8], [0, 4, 8]]}"
      ]
     },
     "execution_count": 5,
     "metadata": {},
     "output_type": "execute_result"
    }
   ],
   "source": [
    "# basic representation\n",
    "\n",
    "# the board \n",
    "# [ 0 1 2 ]\n",
    "# [ 3 4 5 ]\n",
    "# [ 6 7 8 ]\n",
    "\n",
    "wins = [\n",
    "    # horizontal\n",
    "    [0,1,2],\n",
    "    [3,4,5],\n",
    "    [6,7,8],\n",
    "    \n",
    "    # vertical\n",
    "    [0,3,6],\n",
    "    [1,4,7],\n",
    "    [2,5,8],\n",
    "    \n",
    "    # diagonal\n",
    "    [0,4,8],\n",
    "    [2,4,6]\n",
    "]\n",
    "\n",
    "# the idea is to only check the wins that occur for each square\n",
    "# on second thought, that didn't save us that much time\n",
    "possible_wins = {\n",
    "    square:[w for w in wins if square in w] for square in range(9)\n",
    "}\n",
    "\n",
    "possible_wins"
   ]
  },
  {
   "cell_type": "code",
   "execution_count": 6,
   "metadata": {},
   "outputs": [
    {
     "name": "stdout",
     "output_type": "stream",
     "text": [
      "[' ', ' ', ' ']\n",
      "[' ', 'x', ' ']\n",
      "[' ', ' ', ' ']\n",
      "--------------\n",
      "['o', ' ', ' ']\n",
      "[' ', 'x', ' ']\n",
      "[' ', ' ', ' ']\n",
      "--------------\n",
      "['o', ' ', 'x']\n",
      "[' ', 'x', ' ']\n",
      "[' ', ' ', ' ']\n",
      "--------------\n",
      "['o', ' ', 'x']\n",
      "['o', 'x', ' ']\n",
      "[' ', ' ', ' ']\n",
      "--------------\n",
      "['o', ' ', 'x']\n",
      "['o', 'x', ' ']\n",
      "['x', ' ', ' ']\n",
      "--------------\n",
      "5\n"
     ]
    }
   ],
   "source": [
    "def checkWin(board, pattern):\n",
    "    return board[pattern[0]] == board[pattern[1]] and board[pattern[0]] == board[pattern[2]]\n",
    "\n",
    "def pprint(board):\n",
    "    print(board[:3])\n",
    "    print(board[3:6])\n",
    "    print(board[6:])\n",
    "    print('--------------')\n",
    "    \n",
    "def calculateWinNumber(game, disp=False):\n",
    "    board = [' '] * 9\n",
    "    mark = 'x'\n",
    "    for moveNumber, move in enumerate(game):\n",
    "        move = int(move)\n",
    "        board[move] = mark\n",
    "        if disp:\n",
    "            pprint(board)\n",
    "        mark = 'o' if mark == 'x' else 'x'\n",
    "        # check for win\n",
    "        for pattern in possible_wins[move]:\n",
    "            if checkWin(board, pattern):\n",
    "                return moveNumber + 1\n",
    "    \n",
    "    # tie? / no one wins\n",
    "    return -1\n",
    "\n",
    "print(calculateWinNumber('40236', True))"
   ]
  },
  {
   "cell_type": "code",
   "execution_count": 8,
   "metadata": {},
   "outputs": [
    {
     "name": "stdout",
     "output_type": "stream",
     "text": [
      "5 34560\n",
      "6 31968\n",
      "7 95904\n",
      "8 72576\n",
      "9 81792\n"
     ]
    },
    {
     "data": {
      "text/plain": [
       "[0, 0, 0, 0, 0, 34560, 31968, 95904, 72576, 81792, 0, 46080]"
      ]
     },
     "execution_count": 8,
     "metadata": {},
     "output_type": "execute_result"
    }
   ],
   "source": [
    "import itertools\n",
    "import random\n",
    "\n",
    "def bruteForce(LOG=False, SAMPLE=False):\n",
    "    # a game is represented by 0-8\n",
    "    # ex: 012345678\n",
    "    \n",
    "    counters = [0 for i in range(12)] # the last one is -1\n",
    "\n",
    "    all_permutations = itertools.permutations('012345678')\n",
    "    counter = 0\n",
    "    for game in all_permutations:\n",
    "        \n",
    "        # log\n",
    "        counter += 1\n",
    "        if LOG and counter % 1000 == 0:\n",
    "            print(counter // 1000, counters)\n",
    "        \n",
    "        # sample games to see if it's calculating correctly\n",
    "        if SAMPLE and random.random() < 0.001:\n",
    "            print(calculateWinNumber(game, True))\n",
    "            \n",
    "        counters[calculateWinNumber(game)] += 1\n",
    "    \n",
    "    # format it in the right format\n",
    "    for i in [5,6,7,8,9]:\n",
    "        k = counters[i]\n",
    "        print(\"{} {}\".format(i, k))\n",
    "        \n",
    "    return counters\n",
    "        \n",
    "\n",
    "bruteForce()"
   ]
  },
  {
   "cell_type": "markdown",
   "metadata": {},
   "source": [
    "# Question 5"
   ]
  },
  {
   "cell_type": "code",
   "execution_count": 10,
   "metadata": {},
   "outputs": [
    {
     "name": "stdout",
     "output_type": "stream",
     "text": [
      "0 f 10\n",
      "1 b 11\n",
      "2 f 10\n",
      "3 b 11\n",
      "4 s 10\n",
      "Encountered crater!\n",
      "6 b 10\n",
      "7 s 9\n"
     ]
    }
   ],
   "source": [
    "FORWARD = 'f'\n",
    "BACK = 'b'\n",
    "SKIP = 's'\n",
    "JUMP = list(range(10))\n",
    "\n",
    "def crater(x):\n",
    "    return x == 10\n",
    "\n",
    "class Interpreter:\n",
    "    \"\"\"\n",
    "    We're using a basic interpreter loop here...\n",
    "    \n",
    "    \"\"\"\n",
    "    def execute(self, program, initial_pos = 10, LIMIT=30):\n",
    "        position = initial_pos\n",
    "        \n",
    "        counter = 0\n",
    "        time = 0\n",
    "        skip = False\n",
    "        while counter < len(program):\n",
    "            time += 1\n",
    "            if time > LIMIT:\n",
    "                print(\"CAR: ran out of gas, sorry\")\n",
    "                break\n",
    "            \n",
    "            if skip:\n",
    "                skip = False\n",
    "                if crater(position):\n",
    "                    print('Encountered crater!')\n",
    "                    counter += 1\n",
    "                    continue\n",
    "            \n",
    "            instruction = program[counter]\n",
    "            print(counter, instruction, position)\n",
    "            \n",
    "            if instruction == FORWARD:\n",
    "                position += 1\n",
    "            elif instruction == BACK:\n",
    "                position -= 1\n",
    "            elif instruction == SKIP:\n",
    "                skip = True\n",
    "            elif instruction in JUMP:\n",
    "                counter = instruction\n",
    "                continue\n",
    "            \n",
    "            counter += 1\n",
    "                \n",
    "c = Interpreter()\n",
    "c.execute([\n",
    "    FORWARD, BACK, FORWARD, BACK, SKIP, FORWARD, BACK, SKIP\n",
    "])"
   ]
  },
  {
   "cell_type": "code",
   "execution_count": 11,
   "metadata": {},
   "outputs": [],
   "source": [
    "# TODO: finish the program for both cars!"
   ]
  },
  {
   "cell_type": "code",
   "execution_count": null,
   "metadata": {},
   "outputs": [],
   "source": []
  }
 ],
 "metadata": {
  "kernelspec": {
   "display_name": "Python 3",
   "language": "python",
   "name": "python3"
  },
  "language_info": {
   "codemirror_mode": {
    "name": "ipython",
    "version": 3
   },
   "file_extension": ".py",
   "mimetype": "text/x-python",
   "name": "python",
   "nbconvert_exporter": "python",
   "pygments_lexer": "ipython3",
   "version": "3.7.1"
  }
 },
 "nbformat": 4,
 "nbformat_minor": 2
}
