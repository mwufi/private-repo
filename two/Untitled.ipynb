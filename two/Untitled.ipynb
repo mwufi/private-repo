{
 "cells": [
  {
   "cell_type": "markdown",
   "metadata": {},
   "source": [
    "# Question 1\n",
    "\n",
    "We wish to train a machine learning algorithm on an array of floating point numbers in the interval [0.0, 1.0). The data is horribly unbalanced (not evenly distributed) and we wish to filter the dataset to obtain a subset containing an equal number of values from each interval [0, 0.2), [0.2, 0.4), ... [0.8, 1.0), throwing away as little data as possible.\n",
    "\n",
    "1. Write a program which reads comma-separated floating point numbers in a single line from stdin, and prints the filtered data to stdout in the same format"
   ]
  },
  {
   "cell_type": "markdown",
   "metadata": {},
   "source": [
    "**Overview**\n",
    "\n",
    "How should we balance the data? If our goal is only to obtain a dataset with the same number of values in each bucket, then we can do several things\n",
    "\n",
    "1. As the data comes in, we bucket the data, keeping track of how many elements are in each bucket. Then, at output time, we output that many elements from each bucket.\n",
    " - this does *throw away as little data as possible*\n",
    "\n",
    "What does it do when there are no values in one interval [0.8, 1.0)?\n",
    "* Return nothing from all the intervals?\n",
    "\n",
    "**Tests**\n",
    "\n",
    "* Doesn't throw away data: if the number of elements in each bucket is the same to begin with\n",
    "\n"
   ]
  },
  {
   "cell_type": "code",
   "execution_count": 1,
   "metadata": {},
   "outputs": [],
   "source": [
    "def cut(numbers, disp=False):\n",
    "    \"\"\"Filter the input to create a balanced data\n",
    "    \n",
    "    Params:\n",
    "    numbers - array of floats in [0.0, 1.0)\n",
    "    \"\"\"\n",
    "    intervals = [0.2, 0.4, 0.6, 0.8, 1.0]\n",
    "    buckets = [[] for i in intervals]\n",
    "    for num in numbers:\n",
    "        # find the right bucket\n",
    "        for i, right in enumerate(intervals):\n",
    "            if num < right:\n",
    "                buckets[i].append(num)\n",
    "                break\n",
    "    \n",
    "    if disp:\n",
    "        print('Buckets:\\n', buckets)\n",
    "        \n",
    "    # find out how many values to keep\n",
    "    k = min([len(b) for b in buckets])\n",
    "    \n",
    "    # take k values from each bucket\n",
    "    buckets = [b[:k] for b in buckets]\n",
    "    data = []\n",
    "    for b in buckets:\n",
    "        data += b\n",
    "        \n",
    "    return data\n"
   ]
  },
  {
   "cell_type": "markdown",
   "metadata": {},
   "source": [
    "Let's test that `cut` works"
   ]
  },
  {
   "cell_type": "code",
   "execution_count": 2,
   "metadata": {},
   "outputs": [
    {
     "name": "stdout",
     "output_type": "stream",
     "text": [
      "Buckets:\n",
      " [[0, 0.1], [0.3], [0.4, 0.5], [0.7], [0.9]]\n",
      "Buckets:\n",
      " [[0, 0.1], [0.2, 0.3], [0.4, 0.4], [0.6, 0.6], [0.8, 0.8]]\n"
     ]
    }
   ],
   "source": [
    "# TEST: drops unbalanced elements\n",
    "inputs = [0,0.1,0.3,0.4,0.5,0.7,0.9, 1.0]\n",
    "expected = [0, 0.3, 0.4, 0.7, 0.9]\n",
    "assert cut(inputs, True) == expected\n",
    "\n",
    "# TEST: throws away as little as possible\n",
    "inputs = [0, 0.1, 0.2, 0.3, 0.4, 0.4, 0.6, 0.6, 0.8, 0.8, 1.0, 1.0]\n",
    "expected = [0, 0.1, 0.2, 0.3, 0.4, 0.4, 0.6, 0.6, 0.8, 0.8]\n",
    "assert cut(inputs, True) == expected"
   ]
  },
  {
   "cell_type": "code",
   "execution_count": 3,
   "metadata": {},
   "outputs": [
    {
     "name": "stdout",
     "output_type": "stream",
     "text": [
      "0.0,0.1,0.2,0.3,0.4,0.4,0.6,0.6,0.8,0.8\n"
     ]
    }
   ],
   "source": [
    "!echo 0, 0.1, 0.2, 0.3, 0.4, 0.4, 0.6, 0.6, 0.8, 0.8, 1.0, 1.0 | python filter.py\n"
   ]
  },
  {
   "cell_type": "markdown",
   "metadata": {},
   "source": [
    "Of course, we'll need some end-to-end tests to make sure that the program output is what we expect... such as checking the output of the bash scripts (**todo**...)"
   ]
  },
  {
   "cell_type": "markdown",
   "metadata": {},
   "source": [
    "# Question 2\n",
    "\n",
    "Suppose you are asked to write a simple game involving a spaceship and an asteroid. The spaceship and an asteroid have a position and orientation in a 2D plane. The aim of the game is for the spaceship to fire a missile at the asteroid and destroy it.\n",
    "\n",
    "1. Describe or draw a software design for this game.\n",
    "    * this may include a system diagram, flow chart, class diagram, etc.\n",
    "    * State any assumptions you make.\n",
    "    \n",
    "    \n",
    "Writing this game involves thinking about three parts:\n",
    "\n",
    "* The engine, which we'll call `Game` - Responsible for operating the core logic of the game, such as moving pieces. Advanced engines will have renderers (which we simulate here with a `render` method), as well as code for handling the interaction between various game objects\n",
    "\n",
    "* The front-end - Omitted. This will usually be the part that handles user input (like a webpage, or a C++ UI), which makes calls to the engine and renders the result. Here, our input is nothing, and our output is the console!\n",
    "\n",
    "* The game objects - How do we represent the pieces involved? In this doc, we'll make an object which encapsulates the idea of a 2D point which has its own velocity and orientation.\n",
    "    * `Asteroid` - Moves in a straight line, spawns randomly\n",
    "    * `Missile` - Moves in a straight line. Has a max range. When it hits an asteroid, they both disappear\n",
    "    * `Spaceship` - Can accelerate in 2D, change its orientation, and fire a missile\n",
    "\n",
    "## Design\n",
    "#### Game\n",
    "\n",
    "The `Game` is responsible for handling user input and moving the objects in the game\n",
    "\n",
    "* `init()` - inits a spaceship and asteroid.\n",
    "* `update()` - moves everything, checks for collisions\n",
    "* `user_input(c)` - tells the spaceship to turn and accelerate. Also can fire a missile\n",
    "\n",
    "**Assumptions**\n",
    "- Collision checking - since the number of objects is small, no dedicated techniques (like quadtrees, or sorting) to reduce teh load\n",
    "- space is infinite\n",
    "- however, `Spaceship` will have a max speed\n",
    "- the thing that calls `user_input` will be defined by the user - this can be a webpage, another program, etc\n",
    "\n",
    "#### Game objects\n",
    "\n",
    "All three things can `move()`. In addition, `Spaceship` can `turn(x)` and `accelerate(x)`.\n",
    "\n",
    "**Assumptions**\n",
    "- Based on the simple 1-asteroid scenario, I make every game object keep track of its own state! If we had a billion asteroids and one ship, we might look into structuring this storage differently (say, with a vector of all the positions)\n",
    "- `move()` is thread-safe. When we `turn()` the spaceship, we need to make sure it doesn't interfere with the game logic of moving it!\n",
    "\n",
    "#### Scope\n",
    "\n",
    "we're stripping out a lot of functionality from the `Game` and spaceship classes. Notably:\n",
    "\n",
    "* A renderer\n",
    "* Loading screens\n",
    "* Scores\n",
    "* Multiplayer, remote, etc"
   ]
  },
  {
   "cell_type": "markdown",
   "metadata": {},
   "source": [
    "\n",
    "2. Outline the code for the spaceship, asteroid, and missile.\n",
    "    * Show any data structures and stubs for methods and/or functions that show the implementation of your design in part (a).\n",
    "    * State any assumptions you make.\n",
    "    * It is not necessary to make a functional game (in particular, do not worry about graphics or a game engine)."
   ]
  },
  {
   "cell_type": "code",
   "execution_count": 5,
   "metadata": {},
   "outputs": [
    {
     "name": "stdout",
     "output_type": "stream",
     "text": [
      "[1.08775826 1.04794255] 0.6\n",
      "[1.17029182 1.1044068 ] 0.7\n",
      "[1.24677604 1.16882857] 0.7999999999999999\n",
      "[1.31644671 1.24056418] 0.8999999999999999\n",
      "[1.3786077  1.31889687] 0.9999999999999999\n",
      "[1.43263793 1.40304397] 1.0999999999999999\n",
      "[1.47799755 1.4921647 ] 1.2\n",
      "[1.51423332 1.58536861] 1.3\n",
      "[1.54098321 1.68172443] 1.4000000000000001\n",
      "[1.55797992 1.7802694 ] 1.5000000000000002\n"
     ]
    }
   ],
   "source": [
    "import numpy as np\n",
    "\n",
    "class Gobject:\n",
    "    def __init__(self, position, orientation, velocity=0.0, name=\"default\"):\n",
    "        \"\"\"\n",
    "        position - an array of shape [2,]\n",
    "        orientation - float\n",
    "        \"\"\"\n",
    "        self.position = np.array(position, dtype=np.float)\n",
    "        self.orientation = orientation\n",
    "        self.v = velocity\n",
    "        self.name = name\n",
    "        \n",
    "        self.alive = True\n",
    "        \n",
    "    def turn(self, dtheta, dt=0.1):\n",
    "        self.orientation += dtheta\n",
    "\n",
    "    def move(self, dt=0.1):\n",
    "        s_pos, s_or = self.position, self.orientation\n",
    "        dp = np.array((np.cos(s_or) * self.v * dt, np.sin(s_or) * self.v * dt))\n",
    "        self.position += dp\n",
    "\n",
    "spaceship = Gobject((1.0,1.0), 0.5, velocity=1)\n",
    "for a in range(10):\n",
    "    spaceship.move()\n",
    "    spaceship.turn(0.1)\n",
    "    print(spaceship.position, spaceship.orientation)"
   ]
  },
  {
   "cell_type": "markdown",
   "metadata": {},
   "source": [
    "Let's do this part first :)\n",
    "\n",
    "3. Write a function or method to determine if the spaceship can hit its target."
   ]
  },
  {
   "cell_type": "code",
   "execution_count": 7,
   "metadata": {},
   "outputs": [],
   "source": [
    "def can_hit(spaceship, target, d, theta):\n",
    "    \"\"\"The spaceship can only hit when within a certain distance and angle from the asteroid.\"\"\"\n",
    "    s_pos, s_or = spaceship\n",
    "    t_pos, t_or = target\n",
    "    \n",
    "    distance = np.sqrt(np.sum((s_pos - t_pos)**2))\n",
    "    \n",
    "    # it'll be easier if we convert to complex coordinates\n",
    "    s_pos = complex(*s_pos)\n",
    "    t_pos = complex(*t_pos)\n",
    "    target_angle = np.angle(t_pos - s_pos)\n",
    "    orientation_angle = np.angle(s_or)\n",
    "    \n",
    "    return distance <= d and np.abs(orientation_angle - target_angle) <= theta\n",
    "\n",
    "def test_can_hit():\n",
    "    # setup the targets\n",
    "    spaceship = (np.array((0,0)), 0.0)\n",
    "    target = (np.array((0,-1)), 1.0)\n",
    "    \n",
    "    d = 1 # has to be more than 1\n",
    "    theta = 1.7 # has to be more than pi/2\n",
    "    assert can_hit(spaceship, target, d, theta)\n",
    "    \n",
    "    d = 0.8\n",
    "    assert not can_hit(spaceship, target, d, theta)\n",
    "    \n",
    "    d = 1 # has to be more than 1\n",
    "    theta = 1.4 # has to be more than pi/2\n",
    "    assert not can_hit(spaceship, target, d, theta)\n",
    "    \n",
    "\n",
    "test_can_hit()"
   ]
  },
  {
   "cell_type": "markdown",
   "metadata": {},
   "source": [
    "\n",
    "2. Outline the code for the spaceship, asteroid, and missile.\n",
    "    * Show any data structures and stubs for methods and/or functions that show the implementation of your design in part (a).\n",
    "    * State any assumptions you make.\n",
    "    * It is not necessary to make a functional game (in particular, do not worry about graphics or a game engine)."
   ]
  },
  {
   "cell_type": "code",
   "execution_count": 30,
   "metadata": {},
   "outputs": [],
   "source": [
    "\n",
    "MAX_SHIP_SPEED = 4\n",
    "MISSILE_SPEED = 8\n",
    "\n",
    "class Spaceship(Gobject):\n",
    "    \"\"\"A Gobject that can be controlled\"\"\"\n",
    "    def __init__(self, position, orientation, velocity=0.0, name=\"bob\"):\n",
    "        super(Spaceship, self).__init__(position, orientation, velocity, \"spaceship_\" + name)\n",
    "        self.max_speed = MAX_SHIP_SPEED\n",
    "    \n",
    "    def turn(self, x):\n",
    "        \"\"\"Change the orientation by adding x\"\"\"\n",
    "        self.orientation += x\n",
    "        \n",
    "    def accelerate(self, x):\n",
    "        \"\"\"Change the velocity by adding x\"\"\"\n",
    "        self.v = max(0, min(self.v + x, self.max_speed))\n",
    "        \n",
    "    \n",
    "class Asteroid(Gobject):\n",
    "    def __init__(self, position, orientation, velocity=0.0, name=\"bob\"):\n",
    "        super(Asteroid, self).__init__(position, orientation, velocity, \"asteroid_\" + name)\n",
    "\n",
    "        \n",
    "class Missile(Gobject):\n",
    "    \"\"\"A Gobject that has different move strategies\"\"\"\n",
    "    def __init__(self, position, orientation, velocity=0.0, name=\"bob\"):\n",
    "        super(Missile, self).__init__(position, orientation, velocity, \"missile_\" + name)\n",
    "        \n",
    "    def move(self):\n",
    "        \"\"\"Overrides the default move method by checking if it's exhausted its range\"\"\"\n",
    "        super(Missile, self).move()\n",
    "        \n",
    "        \n",
    "class Game:\n",
    "    def __init__(self, objects):\n",
    "        self.objects = []\n",
    "        self.spaceship = None\n",
    "        self.asteroid = None\n",
    "        \n",
    "        for o in objects:\n",
    "            self.add(o)\n",
    "        \n",
    "        # hook up to user events\n",
    "        print(\"User events are not supported!\")\n",
    "        self.can_run = True\n",
    "        \n",
    "        self.time = 0\n",
    "    \n",
    "    def add(self, o):\n",
    "        \"\"\"Add an object to the game\"\"\"\n",
    "        if \"spaceship\" in o.name:\n",
    "            self.spaceship = o\n",
    "        elif \"asteroid\" in o.name:\n",
    "            self.asteroid = o\n",
    "        \n",
    "        self.objects.append(o)\n",
    "        \n",
    "    def update(self):\n",
    "        for g in self.objects:\n",
    "            g.move()\n",
    "        \n",
    "        self.collision_test()\n",
    "        self.render()\n",
    "        self.time += 1\n",
    "    \n",
    "    def run(self):\n",
    "        if not self.can_run:\n",
    "            print(\"You need a front end to this game\")\n",
    "            return\n",
    "        \n",
    "        while self.spaceship.alive and self.time < 20:\n",
    "            self.update()\n",
    "            \n",
    "        if not self.spaceship.alive:\n",
    "            print(\"Game over!\")\n",
    "    \n",
    "    def render(self):\n",
    "        \"\"\"Yes, no rendering, we just display the position of the asteroid\"\"\"\n",
    "        print('Asteroid: {}'.format(self.asteroid.position) if self.asteroid.alive else \"\", \\\n",
    "              'You: {}'.format(self.spaceship.position) if self.spaceship.alive else \"\")\n",
    "        missiles = [o for o in self.objects if \"missile\" in o.name]\n",
    "        for o in missiles:\n",
    "            print('Missile:', o.position)\n",
    "        \n",
    "    def collision_test(self):\n",
    "        \"\"\"Removes collided objects\"\"\"\n",
    "        for a in self.objects:\n",
    "            if not a.alive:\n",
    "                continue\n",
    "            for b in self.objects:\n",
    "                if not b.alive:\n",
    "                    continue\n",
    "                \n",
    "                a_data = (a.position, a.orientation)\n",
    "                b_data = (b.position, b.orientation)\n",
    "                \n",
    "                # missile-asteroid collisions\n",
    "                # the missile has to pointed AT the asteroid\n",
    "                distance = 2\n",
    "                PI = 3.1415926535\n",
    "                theta = PI/10\n",
    "                if \"missile\" in a.name and \"asteroid\" in b.name and can_hit(a_data, b_data, distance, theta):\n",
    "                    a.alive = False\n",
    "                    b.alive = False\n",
    "                    \n",
    "                # asteroid-ship collisions\n",
    "                if \"asteroid\" in a.name and \"spaceship\" in b.name and can_hit(a_data, b_data, distance, theta):\n",
    "                    a.alive = False\n",
    "                    b.alive = False\n",
    "                            \n",
    "        # remove all the dead objects\n",
    "        self.objects = [x for x in self.objects if x.alive]\n",
    "    \n",
    "    def fire(self):\n",
    "        \"\"\"Fires a missile at MISSILE_SPEED in the current spaceship direction\n",
    "        \n",
    "        Allow the player to fire as many missiles as they want\n",
    "        \"\"\"\n",
    "        self.objects.append(Missile(self.spaceship.position, self.spaceship.orientation, velocity=MISSILE_SPEED))\n",
    "    \n",
    "    def user_input(self, c):\n",
    "        \"\"\"Called externally!\n",
    "        \n",
    "        Assume that spaceship accelerate methods are safe when\n",
    "        used asynchronously!\n",
    "        \"\"\"\n",
    "        if c == \"ACCELERATE\":\n",
    "            self.spaceship.accelerate(0.1)\n",
    "        elif c == \"DECELERATE\":\n",
    "            self.spaceship.accelerate(-0.1)\n",
    "        elif c == \"TURN_LEFT\":\n",
    "            self.spaceship.turn(0.1)\n",
    "        elif c == \"TURN_RIGHT\":\n",
    "            self.spaceship.turn(-0.1)\n",
    "        elif c == \"FIRE\":\n",
    "            self.fire()\n"
   ]
  },
  {
   "cell_type": "markdown",
   "metadata": {},
   "source": [
    "Let's play the game!"
   ]
  },
  {
   "cell_type": "code",
   "execution_count": 31,
   "metadata": {},
   "outputs": [
    {
     "name": "stdout",
     "output_type": "stream",
     "text": [
      "User events are not supported!\n",
      "Asteroid: [-0.05048461  0.28632094] You: [-0.15145383  0.45896281]\n",
      "Asteroid: [-0.10096922  0.37264187] You: [-0.15145383  0.45896281]\n",
      " \n",
      "Game over!\n"
     ]
    }
   ],
   "source": [
    "\"\"\"\n",
    "         * -- incoming asteroid!!   \n",
    "              \n",
    "       >            \n",
    "       /                \n",
    "    (you) \n",
    "\"\"\"\n",
    "\n",
    "g = Game([\n",
    "    # add a spaceship, which the asteroid will hit around 3 timesteps\n",
    "    Spaceship((-0.15145383, 0.45896281), 0),\n",
    "    Asteroid((0,0.2), 2.1, velocity=1.0)\n",
    "])\n",
    "g.run()"
   ]
  },
  {
   "cell_type": "code",
   "execution_count": 34,
   "metadata": {},
   "outputs": [
    {
     "name": "stdout",
     "output_type": "stream",
     "text": [
      "User events are not supported!\n",
      "Asteroid: [10.  0.] You: [0. 0.]\n",
      "Missile: [0.8 0. ]\n",
      "Asteroid: [10.  0.] You: [0. 0.]\n",
      "Missile: [1.6 0. ]\n",
      "Asteroid: [10.  0.] You: [0. 0.]\n",
      "Missile: [2.4 0. ]\n",
      "Asteroid: [10.  0.] You: [0. 0.]\n",
      "Missile: [3.2 0. ]\n",
      "Asteroid: [10.  0.] You: [0. 0.]\n",
      "Missile: [4. 0.]\n",
      "Asteroid: [10.  0.] You: [0. 0.]\n",
      "Missile: [4.8 0. ]\n",
      "Asteroid: [10.  0.] You: [0. 0.]\n",
      "Missile: [5.6 0. ]\n",
      "Asteroid: [10.  0.] You: [0. 0.]\n",
      "Missile: [6.4 0. ]\n",
      "Asteroid: [10.  0.] You: [0. 0.]\n",
      "Missile: [7.2 0. ]\n",
      "Asteroid: [10.  0.] You: [0. 0.]\n",
      "Missile: [8. 0.]\n",
      " You: [0. 0.]\n",
      " You: [0. 0.]\n",
      " You: [0. 0.]\n",
      " You: [0. 0.]\n",
      " You: [0. 0.]\n",
      " You: [0. 0.]\n",
      " You: [0. 0.]\n",
      " You: [0. 0.]\n",
      " You: [0. 0.]\n",
      " You: [0. 0.]\n"
     ]
    }
   ],
   "source": [
    "\"\"\"\n",
    "          (missile going right)\n",
    "              |\n",
    "       >      *          *  \n",
    "       /                  \\\n",
    "    (you)                  (asteroid)\n",
    "\"\"\"\n",
    "g = Game([\n",
    "    Spaceship((0, 0), 0),\n",
    "    Asteroid((10,0), 2.1),\n",
    "])\n",
    "g.user_input(\"FIRE\")\n",
    "g.run()"
   ]
  },
  {
   "cell_type": "markdown",
   "metadata": {},
   "source": [
    "# Question 3\n",
    "\n",
    "Suppose we have a fleet of 10 identical Autonomous Vehicles with the same sensor suite and storage capabilities.\n",
    "1. How much data would this fleet collect over a week?\n",
    "    * State your assumptions and show your calculations.\n",
    "    * There are many possible exact values for this question. We are looking at your process, assumptions, and logic.\n",
    "\n",
    "## Assumptions\n",
    "\n",
    "### Hardware on the car\n",
    "\n",
    "Let's try to get an estimate on how much data a single car can collect in an hour of driving.\n",
    "\n",
    "**Cameras** - Assume we have 6 cameras (front main 1, front main 2, side 1, side 2, back 1, back 2).\n",
    "* Resolution - Each camera might output a 500x1000 image, at 25Hz.\n",
    "\n",
    "**Lidars** - Assume we don't have LIDAR\n",
    "\n",
    "**Control sensors** - Assume that we can record things about a human demonstrator as well:\n",
    "* Pressure on the gas pedal - float, 25Hz\n",
    "* Pressure on the brake pedal - float, 25Hz\n",
    "* Steering wheel angle - float, 25Hz\n",
    "* Whether the signal lights are activated - tuple, 25Hz\n",
    "\n",
    "**System sensors** - Assume that we also have metrics on the car:\n",
    "* Temperature of the engine - float, 25Hz\n",
    "* Gas left? - float, 25hz\n",
    "\n",
    "I don't think we have any sensors that come close to the cameras :) in terms of raw data\n",
    "\n",
    "### How the cars are being used\n",
    "\n",
    "Now, even with this hardware, the cars might be driven in different environments, and used in different ways. Assume that as long as a car is ON, it's collecting the same rate of data no matter its use case.\n",
    "\n",
    "**Uptime** - 10 hours / day, 7 days / week\n",
    "\n"
   ]
  },
  {
   "cell_type": "code",
   "execution_count": 11,
   "metadata": {},
   "outputs": [
    {
     "name": "stdout",
     "output_type": "stream",
     "text": [
      "45.0 Gb per camera/hour\n",
      "18.9 Tb per car/week\n",
      "189.0 Tb per fleet/week (10 cars)\n"
     ]
    }
   ],
   "source": [
    "resolution = 500 * 1000\n",
    "hz = 25\n",
    "n_cameras = 6\n",
    "n_cars = 10\n",
    "\n",
    "camera_per_second = resolution * hz\n",
    "camera_per_hour = camera_per_second * 3600\n",
    "print(camera_per_hour / 1e9, 'Gb per camera/hour')\n",
    "# Why is a single camera capturing so much when a movie can be compressed to 2gb/hour?\n",
    "\n",
    "camera_per_week = n_cameras * camera_per_hour * 7 * 10\n",
    "print(camera_per_week / 1e12, 'Tb per car/week')\n",
    "\n",
    "print(camera_per_week * n_cars / 1e12, 'Tb per fleet/week (10 cars)')"
   ]
  },
  {
   "cell_type": "code",
   "execution_count": 12,
   "metadata": {},
   "outputs": [
    {
     "name": "stdout",
     "output_type": "stream",
     "text": [
      "3.0 Gb per camera/hour\n",
      "1.26 Tb per car/week\n",
      "12.6 Tb per fleet/week (10 cars)\n"
     ]
    }
   ],
   "source": [
    "# with av1 compression?\n",
    "camera_per_hour = 3e9\n",
    "print(camera_per_hour / 1e9, 'Gb per camera/hour')\n",
    "\n",
    "camera_per_week = n_cameras * camera_per_hour * 7 * 10\n",
    "print(camera_per_week / 1e12, 'Tb per car/week')\n",
    "\n",
    "print(camera_per_week * n_cars / 1e12, 'Tb per fleet/week (10 cars)')"
   ]
  },
  {
   "cell_type": "markdown",
   "metadata": {},
   "source": [
    "# Question 4"
   ]
  },
  {
   "cell_type": "markdown",
   "metadata": {},
   "source": [
    "Write a program which counts how many possible games of TicTacToe consist of a certain number of moves.\n",
    "\n",
    "Output format example (these numbers are incorrect):\n",
    "```\n",
    "5 78492\n",
    "6 289\n",
    "7 48901\n",
    "8 8172\n",
    "9 231\n",
    "```\n",
    "\n",
    "How do we do this efficiently? "
   ]
  },
  {
   "cell_type": "code",
   "execution_count": 13,
   "metadata": {},
   "outputs": [
    {
     "data": {
      "text/plain": [
       "{0: [[0, 1, 2], [0, 3, 6], [0, 4, 8]],\n",
       " 1: [[0, 1, 2], [1, 4, 7]],\n",
       " 2: [[0, 1, 2], [2, 5, 8], [2, 4, 6]],\n",
       " 3: [[3, 4, 5], [0, 3, 6]],\n",
       " 4: [[3, 4, 5], [1, 4, 7], [0, 4, 8], [2, 4, 6]],\n",
       " 5: [[3, 4, 5], [2, 5, 8]],\n",
       " 6: [[6, 7, 8], [0, 3, 6], [2, 4, 6]],\n",
       " 7: [[6, 7, 8], [1, 4, 7]],\n",
       " 8: [[6, 7, 8], [2, 5, 8], [0, 4, 8]]}"
      ]
     },
     "execution_count": 13,
     "metadata": {},
     "output_type": "execute_result"
    }
   ],
   "source": [
    "# basic representation\n",
    "\n",
    "# the board \n",
    "# [ 0 1 2 ]\n",
    "# [ 3 4 5 ]\n",
    "# [ 6 7 8 ]\n",
    "\n",
    "wins = [\n",
    "    # horizontal\n",
    "    [0,1,2],\n",
    "    [3,4,5],\n",
    "    [6,7,8],\n",
    "    \n",
    "    # vertical\n",
    "    [0,3,6],\n",
    "    [1,4,7],\n",
    "    [2,5,8],\n",
    "    \n",
    "    # diagonal\n",
    "    [0,4,8],\n",
    "    [2,4,6]\n",
    "]\n",
    "\n",
    "# the idea is to only check the wins that occur for each square\n",
    "# NOTE: this didn't save us *that* much time!\n",
    "possible_wins = {\n",
    "    square:[w for w in wins if square in w] for square in range(9)\n",
    "}\n",
    "\n",
    "possible_wins"
   ]
  },
  {
   "cell_type": "code",
   "execution_count": 14,
   "metadata": {},
   "outputs": [
    {
     "name": "stdout",
     "output_type": "stream",
     "text": [
      "[' ', ' ', ' ']\n",
      "[' ', 'x', ' ']\n",
      "[' ', ' ', ' ']\n",
      "--------------\n",
      "['o', ' ', ' ']\n",
      "[' ', 'x', ' ']\n",
      "[' ', ' ', ' ']\n",
      "--------------\n",
      "['o', ' ', 'x']\n",
      "[' ', 'x', ' ']\n",
      "[' ', ' ', ' ']\n",
      "--------------\n",
      "['o', ' ', 'x']\n",
      "['o', 'x', ' ']\n",
      "[' ', ' ', ' ']\n",
      "--------------\n",
      "['o', ' ', 'x']\n",
      "['o', 'x', ' ']\n",
      "['x', ' ', ' ']\n",
      "--------------\n",
      "5\n"
     ]
    }
   ],
   "source": [
    "def checkWin(board, pattern):\n",
    "    return board[pattern[0]] == board[pattern[1]] and board[pattern[0]] == board[pattern[2]]\n",
    "\n",
    "def pprint(board):\n",
    "    print(board[:3])\n",
    "    print(board[3:6])\n",
    "    print(board[6:])\n",
    "    print('--------------')\n",
    "    \n",
    "def calculateWinNumber(game, disp=False):\n",
    "    board = [' '] * 9\n",
    "    mark = 'x'\n",
    "    for moveNumber, move in enumerate(game):\n",
    "        move = int(move)\n",
    "        board[move] = mark\n",
    "        if disp:\n",
    "            pprint(board)\n",
    "        mark = 'o' if mark == 'x' else 'x'\n",
    "        # check for win\n",
    "        for pattern in possible_wins[move]:\n",
    "            if checkWin(board, pattern):\n",
    "                return moveNumber + 1\n",
    "    \n",
    "    # tie? / no one wins\n",
    "    return -1\n",
    "\n",
    "print(calculateWinNumber('40236', True))"
   ]
  },
  {
   "cell_type": "code",
   "execution_count": 15,
   "metadata": {},
   "outputs": [
    {
     "name": "stdout",
     "output_type": "stream",
     "text": [
      "5 34560\n",
      "6 31968\n",
      "7 95904\n",
      "8 72576\n",
      "9 81792\n"
     ]
    },
    {
     "data": {
      "text/plain": [
       "[0, 0, 0, 0, 0, 34560, 31968, 95904, 72576, 81792, 0, 46080]"
      ]
     },
     "execution_count": 15,
     "metadata": {},
     "output_type": "execute_result"
    }
   ],
   "source": [
    "import itertools\n",
    "import random\n",
    "\n",
    "def bruteForce(LOG=False, SAMPLE=False):\n",
    "    # a game is represented by 0-8\n",
    "    # ex: 012345678\n",
    "    \n",
    "    counters = [0 for i in range(12)] # the last one is -1\n",
    "\n",
    "    all_permutations = itertools.permutations('012345678')\n",
    "    counter = 0\n",
    "    for game in all_permutations:\n",
    "        \n",
    "        # log\n",
    "        counter += 1\n",
    "        if LOG and counter % 1000 == 0:\n",
    "            print(counter // 1000, counters)\n",
    "        \n",
    "        # sample games to see if it's calculating correctly\n",
    "        if SAMPLE and random.random() < 0.001:\n",
    "            print(calculateWinNumber(game, True))\n",
    "            \n",
    "        counters[calculateWinNumber(game)] += 1\n",
    "    \n",
    "    # format it in the right format\n",
    "    for i in [5,6,7,8,9]:\n",
    "        k = counters[i]\n",
    "        print(\"{} {}\".format(i, k))\n",
    "        \n",
    "    return counters\n",
    "        \n",
    "\n",
    "bruteForce()"
   ]
  },
  {
   "cell_type": "markdown",
   "metadata": {},
   "source": [
    "# Question 5"
   ]
  },
  {
   "cell_type": "markdown",
   "metadata": {},
   "source": [
    "\n",
    "A rival AI company, Tesmo, has made two autonomous vehicles. Fortunately they aren’t very good. They only have two cars with the same program, which consists of at most 10 instructions. Each instruction is one of:\n",
    "\n",
    "* 👈 Drive backwards one car length\n",
    "* 👉 Drive forwards one car length\n",
    "* 🙈 Skip the next instruction if there’s a crater under the car\n",
    "* An integer 0-9 - Jump to the instruction corresponding to this index, e.g. “1” jumps to the second instruction in the program"
   ]
  },
  {
   "cell_type": "markdown",
   "metadata": {},
   "source": [
    "**Write a program** that ensures the vehicles will crash into each other (clients want the strangest things).\n",
    "\n",
    "a. The program should be identical for both cars.\n",
    "\n",
    "b. They should crash regardless of where they start.\n",
    "\n",
    "c. Assume that executing each instruction takes exactly the same amount of\n",
    "time and that both cars start execution at the same time."
   ]
  },
  {
   "cell_type": "markdown",
   "metadata": {},
   "source": [
    "## Actual solution\n",
    "\n",
    "The key insight is that limiting to 10 instructions dramatically simplifies the space of things that the cars can do - nothing too complicated. In particular, the car that goes forward without hitting a crater will have no idea when to turn around! To deal with this, we put all the intelligence in the car that hits the second crater.\n",
    "\n",
    "We start with two cars with the following program:\n",
    "\n",
    "* go FORWARD at half-speed until you hit a crater (one of the cars, w.l.o.g. Sammy, will do do this)\n",
    "* go FORWARD at full-speed, and catch up with the other car who's still going at half-speed"
   ]
  },
  {
   "cell_type": "code",
   "execution_count": 18,
   "metadata": {},
   "outputs": [],
   "source": [
    "FORWARD = 'f'\n",
    "BACK = 'b'\n",
    "SKIP = 's'\n",
    "JUMP = list(range(10))\n",
    "\n",
    "# proceed at half-speed, then at full speed\n",
    "program = [\n",
    "    FORWARD, FORWARD, BACK, SKIP, 0, FORWARD, SKIP, 5\n",
    "]\n",
    "\n",
    "# in terms of time, it takes roughly 2*5*d timesteps for them to collide (since the instruction loop has 5 instructions)"
   ]
  },
  {
   "cell_type": "markdown",
   "metadata": {},
   "source": [
    "## Funny story\n",
    "\n",
    "I actually started making a simulator, because I thought it'd be fun + necessary. Turns out it wasn't necessary (thinking goes a long way!) but it was fun :)\n",
    "\n",
    "When making this program, I thought of two main approaches:\n",
    "\n",
    "1. Make the cars execute independently, and then let the world do stuff like collisions\n",
    "    * Pros: You can reuse the interpreter loop, this has a nice object-oriented feel\n",
    "    * Cons: Might need lots of logic for external stuff like collisions, more difficult to add custom behavior in response to world events\n",
    "2. Make the world responsible for checking collisions *AND* for updating the cars according to the program\n",
    "    * Pros: might be neater, bc you don't need to communicate as much (the world has all the state)\n",
    "    * Cons: Since the cars will end up with different program counters, you might be duplicating logic somehow?\n",
    "\n",
    "Ultimately I chose (1), because it seemed easier to test with one car!"
   ]
  },
  {
   "cell_type": "code",
   "execution_count": 19,
   "metadata": {},
   "outputs": [],
   "source": [
    "def crater(x):\n",
    "    return x == 10\n",
    "\n",
    "class Car:\n",
    "    \"\"\"This is a basic interpreter loop...\n",
    "    \n",
    "    The car can update its own position based on the program!\n",
    "    \n",
    "    \"\"\"\n",
    "    def __init__(self, name = \"CAR\", pos = 10):\n",
    "        self.initial_pos = pos\n",
    "        self.name = name\n",
    "        self.can_execute = True\n",
    "    \n",
    "    def alert(self, msg):\n",
    "        print(\"{} {}\".format(self.name, msg))\n",
    "        \n",
    "    def msg(self, msg):\n",
    "        if self.verbose:\n",
    "            print(\"{} {}\".format(self.name, msg))\n",
    "        \n",
    "    \n",
    "    def execute(self, program, crater, verbose=True, LIMIT=40):\n",
    "        \"\"\"Executes the program on the car!\n",
    "        \n",
    "        Inputs:\n",
    "        program - a list of instructions like [FORWARD, BACK, SKIP, 1]\n",
    "        crater - a function that tells the car where the world's craters are\n",
    "        \n",
    "        Outputs:\n",
    "        Yields (time, program counter, instruction, position) tuples\n",
    "        \n",
    "        Also prints messages for halting and skipping instructions\n",
    "        \"\"\"\n",
    "        self.verbose = verbose\n",
    "        position = self.initial_pos\n",
    "        \n",
    "        counter = 0\n",
    "        time = 0\n",
    "        skip = False\n",
    "        while counter < len(program) and self.can_execute:\n",
    "  \n",
    "            if skip:\n",
    "                skip = False\n",
    "                if crater(position):\n",
    "                    self.alert(\"Skipping the current instruction {} {}\".format(counter, program[counter]))\n",
    "                    counter += 1\n",
    "                    continue\n",
    "            \n",
    "            time += 1\n",
    "            if time > LIMIT:\n",
    "                self.alert(\"OUT OF GAS!\")\n",
    "                break\n",
    "                \n",
    "            instruction = program[counter]\n",
    "            self.msg(\"t={} {} {}\\t {}\".format(time, counter, instruction, position))\n",
    "            yield (time, counter, instruction, position)\n",
    "\n",
    "            if instruction == FORWARD:\n",
    "                position += 1\n",
    "            elif instruction == BACK:\n",
    "                position -= 1\n",
    "            elif instruction == SKIP:\n",
    "                skip = True\n",
    "            elif instruction in JUMP:\n",
    "                counter = instruction\n",
    "                continue\n",
    "            \n",
    "            counter += 1\n",
    "        \n",
    "    def crash(self):\n",
    "        self.can_execute = False\n",
    "        self.alert(\"BOOOOM!\")\n"
   ]
  },
  {
   "cell_type": "code",
   "execution_count": 20,
   "metadata": {},
   "outputs": [
    {
     "name": "stdout",
     "output_type": "stream",
     "text": [
      "Bog the Builder t=1 0 f\t 10\n",
      "Bog the Builder t=2 1 b\t 11\n",
      "Bog the Builder t=3 2 f\t 10\n",
      "Bog the Builder t=4 3 b\t 11\n",
      "Bog the Builder t=5 4 s\t 10\n",
      "Bog the Builder Skipping the current instruction 5 f\n",
      "Bog the Builder t=6 6 b\t 10\n",
      "Bog the Builder t=7 7 s\t 9\n"
     ]
    },
    {
     "data": {
      "text/plain": [
       "[(1, 0, 'f', 10),\n",
       " (2, 1, 'b', 11),\n",
       " (3, 2, 'f', 10),\n",
       " (4, 3, 'b', 11),\n",
       " (5, 4, 's', 10),\n",
       " (6, 6, 'b', 10),\n",
       " (7, 7, 's', 9)]"
      ]
     },
     "execution_count": 20,
     "metadata": {},
     "output_type": "execute_result"
    }
   ],
   "source": [
    "c = Car(\"Bog the Builder\")\n",
    "steps = c.execute([\n",
    "    FORWARD, BACK, FORWARD, BACK, SKIP, FORWARD, BACK, SKIP\n",
    "], crater)\n",
    "list(steps)"
   ]
  },
  {
   "cell_type": "markdown",
   "metadata": {},
   "source": [
    "## Dealing with two cars"
   ]
  },
  {
   "cell_type": "code",
   "execution_count": 21,
   "metadata": {},
   "outputs": [
    {
     "name": "stdout",
     "output_type": "stream",
     "text": [
      "time 1 : 10 11\n",
      "time 2 : 11 12\n",
      "Car1 Skipping the current instruction 2 0\n",
      "time 3 : 11 12\n",
      "time 4 : 11 12\n",
      "time 5 : 11 13\n",
      "time 6 : 11 13\n",
      "time 7 : 11 13\n",
      "time 8 : 11 14\n",
      "time 9 : 11 14\n",
      "time 10 : 11 14\n",
      "Car2 OUT OF GAS!\n"
     ]
    }
   ],
   "source": [
    "def run_cars(positions, program, LIMIT=30):\n",
    "    \"\"\"Runs the same program on both cars. Checks if they collide!\n",
    "    \n",
    "    `run_cars` prints out the positions of each car at every timestep\n",
    "    \n",
    "    Inputs:\n",
    "    - positions: a tuple of 2 positions\n",
    "    - program:\n",
    "    \n",
    "    Returns nothing\n",
    "    \"\"\"\n",
    "    car1 = Car(\"Car1\", positions[0])\n",
    "    car2 = Car(\"Car2\", positions[1])\n",
    "    crater = lambda a: a in positions\n",
    "\n",
    "    A,B = car1.execute(program, crater, False, LIMIT), car2.execute(program, crater, False, LIMIT)\n",
    "    def check(a,b):\n",
    "        posA = a[-1]\n",
    "        posB = b[-1]\n",
    "        print('time {} : {} {}'.format(max(a[0], b[0]), posA, posB))\n",
    "        if posA == posB:\n",
    "            car1.crash()\n",
    "            car2.crash()\n",
    "            \n",
    "    for a,b in zip(A,B):\n",
    "        check(a,b)\n",
    "\n",
    "    # when one car stops, keep going until the other car stops\n",
    "    for a in A:\n",
    "        check(a,b)\n",
    "    for b in B:\n",
    "        check(a,b)\n",
    "\n",
    "# if we hit a crater, we stop going forward\n",
    "program = [\n",
    "    FORWARD, SKIP, 0\n",
    "]\n",
    "run_cars([10,11], program, 10)"
   ]
  },
  {
   "cell_type": "markdown",
   "metadata": {},
   "source": [
    "## Finally, our original solution:"
   ]
  },
  {
   "cell_type": "code",
   "execution_count": 22,
   "metadata": {},
   "outputs": [
    {
     "name": "stdout",
     "output_type": "stream",
     "text": [
      "time 1 : 10 14\n",
      "time 2 : 11 15\n",
      "time 3 : 12 16\n",
      "time 4 : 11 15\n",
      "time 5 : 11 15\n",
      "time 6 : 11 15\n",
      "time 7 : 12 16\n",
      "time 8 : 13 17\n",
      "time 9 : 12 16\n",
      "time 10 : 12 16\n",
      "time 11 : 12 16\n",
      "time 12 : 13 17\n",
      "time 13 : 14 18\n",
      "time 14 : 13 17\n",
      "time 15 : 13 17\n",
      "time 16 : 13 17\n",
      "time 17 : 14 18\n",
      "time 18 : 15 19\n",
      "time 19 : 14 18\n",
      "Car1 Skipping the current instruction 4 0\n",
      "time 20 : 14 18\n",
      "time 21 : 15 18\n",
      "time 22 : 15 19\n",
      "time 23 : 15 20\n",
      "time 24 : 16 19\n",
      "time 25 : 16 19\n",
      "time 26 : 16 19\n",
      "time 27 : 17 20\n",
      "time 28 : 17 21\n",
      "time 29 : 17 20\n",
      "time 30 : 18 20\n",
      "time 31 : 18 20\n",
      "time 32 : 18 21\n",
      "time 33 : 19 22\n",
      "time 34 : 19 21\n",
      "time 35 : 19 21\n",
      "time 36 : 20 21\n",
      "time 37 : 20 22\n",
      "time 38 : 20 23\n",
      "time 39 : 21 22\n",
      "time 40 : 21 22\n",
      "time 41 : 21 22\n",
      "time 42 : 22 23\n",
      "time 43 : 22 24\n",
      "time 44 : 22 23\n",
      "time 45 : 23 23\n",
      "Car1 BOOOOM!\n",
      "Car2 BOOOOM!\n"
     ]
    }
   ],
   "source": [
    "# proceed at half-speed, then at full speed\n",
    "program = [\n",
    "    FORWARD, FORWARD, BACK, SKIP, 0, FORWARD, SKIP, 5\n",
    "]\n",
    "\n",
    "# in terms of time, it takes roughly 2*5*d timesteps for them to collide (since the instruction loop has 5 instructions)\n",
    "run_cars([10,14], program, 110)"
   ]
  },
  {
   "cell_type": "code",
   "execution_count": null,
   "metadata": {},
   "outputs": [],
   "source": []
  }
 ],
 "metadata": {
  "kernelspec": {
   "display_name": "Python 3",
   "language": "python",
   "name": "python3"
  },
  "language_info": {
   "codemirror_mode": {
    "name": "ipython",
    "version": 3
   },
   "file_extension": ".py",
   "mimetype": "text/x-python",
   "name": "python",
   "nbconvert_exporter": "python",
   "pygments_lexer": "ipython3",
   "version": "3.7.1"
  }
 },
 "nbformat": 4,
 "nbformat_minor": 2
}
