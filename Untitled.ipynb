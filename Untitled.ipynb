{
 "cells": [
  {
   "cell_type": "markdown",
   "metadata": {},
   "source": [
    "# Wayve Technical Test\n",
    "\n",
    "\n",
    "1. Suppose you have an arbitrary global variable which is a binary 2-dimensional array called M. A “path” to (i, j) is defined as a sequence of right and down steps starting from position (0, 0) to (i, j) going only through positions which contain a 1. Write a function which returns the number of unique paths to an arbitrary position (i, j). By convention, the number of paths to (0, 0) is 1. What is the computational complexity of your algorithm? What is the memory complexity?"
   ]
  },
  {
   "cell_type": "markdown",
   "metadata": {},
   "source": [
    "\n",
    "### Approach #1\n",
    "We can think of M as a directed graph, with edges $(i,j) \\to (i+1,j)$ (down) and $(i,j) \\to (i,j+1)$ (right), if each of these positions contain a 1. The number of ways to each vertex would be the sum of its UP and LEFT neighbor."
   ]
  },
  {
   "cell_type": "code",
   "execution_count": 19,
   "metadata": {},
   "outputs": [
    {
     "name": "stdout",
     "output_type": "stream",
     "text": [
      "1 1\n",
      "6 6\n",
      "0 0\n",
      "2 2\n"
     ]
    }
   ],
   "source": [
    "def valid(M, i, j):\n",
    "    \"\"\" Returns the value of M (whether there is a 1 at i,j)\"\"\"\n",
    "    height, width = M.shape\n",
    "    if i < height and j < width and i >= 0 and j >= 0:\n",
    "        return M[i,j]\n",
    "    return 0\n",
    "    \n",
    "def count_unique_paths(M, destination=(0,0)):\n",
    "    K = np.ones_like(M)\n",
    "    for i in range(destination[0]+1):\n",
    "        for j in range(destination[1]+1):\n",
    "            if i == 0 and j == 0:\n",
    "                continue\n",
    "            K[i,j] = valid(M, i-1, j)*K[i-1,j] + valid(M, i, j-1)*K[i,j-1]\n",
    "            \n",
    "            # now, this part is unclear\n",
    "            # Do we want to say that there are 0 paths if (i,j) contains a 0 in M?\n",
    "            # if so, comment out this line\n",
    "            K[i,j] *= valid(M, i, j)\n",
    "    \n",
    "    return K[destination[0],destination[1]]\n",
    "\n",
    "\n",
    "import numpy\n",
    "\n",
    "M = np.ones((3,3), dtype=np.uint8)\n",
    "print(count_unique_paths(M, (0,0)), 1)\n",
    "print(count_unique_paths(M, (2,2)), 6)\n",
    "\n",
    "\n",
    "M[1,1] = 0 # now, it's a donut shape\n",
    "print(count_unique_paths(M, (1,1)), 0)\n",
    "print(count_unique_paths(M, (2,2)), 2)"
   ]
  },
  {
   "cell_type": "markdown",
   "metadata": {},
   "source": [
    "**Computational Complexity**: It iterates the entire array, up to $(i,j)$, so the computational complexity scales like $O(i*j)$. This could be linear or quadratic, depending on what you take $n$ to be :)\n",
    "\n",
    "**Memory Complexity:** We store the result array in-memory, so this also takes $O(i*j)$ memory.\n",
    "\n",
    "### Sketch of Approach 2\n",
    "Why might this not be good? If $i$ and $j$ are large, and $M$ is very sparse, we might want our algorithm to 1) run faster, and 2) not allocate all the memory\n",
    "\n",
    "This requires exploring the nodes in M with a search algorithm like BFS, instead of the dynamic programming type solution we had in Approach 1.\n",
    "\n",
    "**Computational Complexity**: Could potentially go down to $O(m)$, where $m$ is the number of nonzero entries in $M$\n",
    "\n",
    "**Memory Complexity**: Could also go down to $O(m)$, where $m$ is the number of nonzero entries in $M$"
   ]
  },
  {
   "cell_type": "markdown",
   "metadata": {},
   "source": [
    "2. We wish to train a machine learning algorithm on an array, x, containing floating point numbers in the interval [0.0, 1.0). The data is horribly unbalanced, and we wish to filter the dataset so that it contains an equal number of examples from each interval [0 0.1), [0.1, 0.2), ... [0.9, 1.0). Write a function which returns an array containing this filtered set examples from the array x."
   ]
  },
  {
   "cell_type": "code",
   "execution_count": 25,
   "metadata": {},
   "outputs": [],
   "source": [
    "# Raw approach: We can go through the array, and count how many are in each interval!\n",
    "# Then, we resample\n",
    "\n",
    "# Say our probabilities were [.9, .05, .06...]\n",
    "# We want to boost it so that the low probabilities get a HIGH chance\n",
    "# of being selected (like affirmative action)\n",
    "# (ie, IMPORTANCE SAMPLING)\n",
    "def balance_with_filter(x):\n",
    "    # make our table\n",
    "    counts = np.zeros(10)\n",
    "    for num in x:\n",
    "        bucket = math.floor(num*10)\n",
    "        counts[bucket] += 1\n",
    "    \n",
    "    probabilities = counts / sum(counts)\n",
    "    resampled_probabilities = .1 / probabilities\n",
    "    normalized_resamples = resampled_probabilities / sum(resampled)\n",
    "    \n",
    "    # now we sample?\n",
    "    dataset = []\n",
    "    for num in x:\n",
    "        bucket = math.floor(num*10)\n",
    "        if random.random() < normalized_resamples[bucket]:\n",
    "            dataset.append(num)\n",
    "    return dataset"
   ]
  },
  {
   "cell_type": "markdown",
   "metadata": {},
   "source": [
    "Thngs to do: check if any of the probabilies are 0 before dividing, etc\n",
    "\n",
    "Computationally, the it sweeps through the array once, so $O(n)$. I think the bulk of the computation will be in sampling, so if I can think of another approach with *doesn't* involve sampling, I'll let you know!\n",
    "\n",
    "Memory, here's the good part: it doesn't use any (well, only a tiny bit) memory! $O(1)$ Could potentially use an algorithm like this for on-line streaming"
   ]
  },
  {
   "cell_type": "markdown",
   "metadata": {},
   "source": [
    "3. Spaceship and target problem\n",
    "\n",
    "You are given a spaceship and a target, each with position and orientation as 2D vectors.\n",
    "The spaceship needs to shoot the target, but can only fire within a certain distance $d$ and\n",
    "angle $\\theta$ from its position. Write a function to determine if it can hit its target."
   ]
  },
  {
   "cell_type": "code",
   "execution_count": 33,
   "metadata": {},
   "outputs": [],
   "source": [
    "def can_hit(spaceship, target, d, theta):\n",
    "    s_pos, s_or = spaceship\n",
    "    t_pos, t_or = target\n",
    "    \n",
    "    \n",
    "    distance = np.sqrt(np.sum((s_pos - t_pos)**2))\n",
    "    \n",
    "    # it'll be easier if we convert to complex coordinates\n",
    "    s_pos = complex(s_pos)\n",
    "    t_pos = complex(t_pos)\n",
    "    target_angle = np.angle(t_pos - s_pos)\n",
    "    orientation_angle = np.angle(s_or)\n",
    "    \n",
    "    return distance < d and np.abs(orientation_angle - target_angle) < theta\n",
    "    "
   ]
  },
  {
   "cell_type": "markdown",
   "metadata": {},
   "source": [
    "We can also do it without the complex notation :) (by unwrapping to sines and cosines)."
   ]
  },
  {
   "cell_type": "markdown",
   "metadata": {},
   "source": [
    "# Additional Problem solving"
   ]
  },
  {
   "cell_type": "markdown",
   "metadata": {},
   "source": [
    "1. How much data would a fleet of ten autonomous vehicles collect over a week?\n",
    "\n",
    "Whoa!!! Say, we have 10 cameras per car. A video file is probably like 10M per minute (with those really cool video codecs), so if we were to stream this for 10 hours a day, it'd be 10M/minute/camera * 60 minutes/hour * 10 hours * 10cameras, or 60GB per car per day. Or, 4200GB for the entire fleet in a week. Wow, that is so much. I bet I\"m off though.\n",
    "\n",
    "2. Given a cube with edge length x, what is the shortest distance from one vertex to the opposite vertex, travelling only on the cube’s surface?\n",
    "\n",
    "$x\\sqrt{5}$? I'm imagining unwrapping the cube and using PYthagoras's fancy theorem\n",
    "\n",
    "3. Our autonomous vehicle is traveling at a constant speed of 10m/s, 10m directly behind a vehicle which is travelling in the same direction. The vehicle in front applies a constant braking force and comes to a stop after travelling a further 20m. Assuming our AI system has a latency from sensing to action of 0.5 seconds, what is the minimum constant deceleration our AI system must apply to prevent a collision?\n",
    "\n",
    "Vehicle in front decelerates from 10 to 0\n"
   ]
  },
  {
   "cell_type": "code",
   "execution_count": null,
   "metadata": {},
   "outputs": [],
   "source": []
  }
 ],
 "metadata": {
  "kernelspec": {
   "display_name": "Python 3",
   "language": "python",
   "name": "python3"
  },
  "language_info": {
   "codemirror_mode": {
    "name": "ipython",
    "version": 3
   },
   "file_extension": ".py",
   "mimetype": "text/x-python",
   "name": "python",
   "nbconvert_exporter": "python",
   "pygments_lexer": "ipython3",
   "version": "3.7.1"
  }
 },
 "nbformat": 4,
 "nbformat_minor": 2
}
